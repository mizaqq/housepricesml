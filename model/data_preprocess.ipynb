{
 "cells": [
  {
   "cell_type": "code",
   "execution_count": 90,
   "metadata": {},
   "outputs": [],
   "source": [
    "import pandas as pd\n",
    "from utils.chi_square import perform_chi_square_test\n",
    "from sklearn.preprocessing import LabelEncoder, StandardScaler"
   ]
  },
  {
   "cell_type": "code",
   "execution_count": null,
   "metadata": {},
   "outputs": [],
   "source": []
  },
  {
   "cell_type": "code",
   "execution_count": 91,
   "metadata": {},
   "outputs": [
    {
     "name": "stdout",
     "output_type": "stream",
     "text": [
      "Dropping column due to insignificant values:  Alley  p-value:  0.20972415885759163\n",
      "Dropping column due to insignificant values:  LandContour  p-value:  0.08674645041917711\n",
      "Dropping column due to insignificant values:  Utilities  p-value:  1.0\n",
      "Dropping column due to insignificant values:  LandSlope  p-value:  0.10508638737793884\n",
      "Dropping column due to insignificant values:  Condition1  p-value:  1.0\n",
      "Dropping column due to insignificant values:  Condition2  p-value:  0.07598640644469955\n",
      "Dropping column due to insignificant values:  BldgType  p-value:  0.9999860714473023\n",
      "Dropping column due to insignificant values:  HouseStyle  p-value:  0.6482615179447816\n",
      "Dropping column due to insignificant values:  RoofStyle  p-value:  1.0\n",
      "Dropping column due to insignificant values:  RoofMatl  p-value:  1.0\n",
      "Dropping column due to insignificant values:  Exterior1st  p-value:  0.9999839433628513\n",
      "Dropping column due to insignificant values:  Exterior2nd  p-value:  0.8469189757654344\n",
      "Dropping column due to insignificant values:  MasVnrType  p-value:  0.1519389355542077\n",
      "Dropping column due to insignificant values:  BsmtFinType1  p-value:  0.9728950558884571\n",
      "Dropping column due to insignificant values:  BsmtFinType2  p-value:  0.9999995053342521\n",
      "Dropping column due to insignificant values:  HeatingQC  p-value:  0.9995946871632676\n",
      "Dropping column due to insignificant values:  Electrical  p-value:  0.055687991437252254\n",
      "Dropping column due to insignificant values:  Functional  p-value:  1.0\n",
      "Dropping column due to insignificant values:  GarageType  p-value:  0.1324830638502916\n",
      "Dropping column due to insignificant values:  GarageCond  p-value:  0.999985676535125\n",
      "Dropping column due to insignificant values:  PavedDrive  p-value:  0.9912799626956017\n",
      "Dropping column due to insignificant values:  PoolQC  p-value:  0.3007082761743609\n",
      "Dropping column due to insignificant values:  Fence  p-value:  0.9141088546261399\n",
      "Dropping column due to insignificant values:  MiscFeature  p-value:  0.23779471590496037\n"
     ]
    }
   ],
   "source": [
    "\n",
    "df = pd.read_csv('./data/train.csv')\n",
    "categorical = df.select_dtypes(include=['object']).columns       \n",
    "col_significance= [(col,perform_chi_square_test(df,col,'SalePrice')) for col in categorical]\n",
    "dropped_cols = []\n",
    "for sig in col_significance:\n",
    "    if sig[1][2]==False:\n",
    "        dropped_cols.append(sig[0])\n",
    "        print(\"Dropping column due to insignificant values: \", sig[0], \" p-value: \", sig[1][1])\n",
    "        df.drop(sig[0], axis=1, inplace=True)\n",
    "\n"
   ]
  },
  {
   "cell_type": "code",
   "execution_count": null,
   "metadata": {},
   "outputs": [],
   "source": []
  },
  {
   "cell_type": "code",
   "execution_count": 92,
   "metadata": {},
   "outputs": [],
   "source": [
    "\n",
    "categorical_numeric = [\n",
    "    'MSZoning',\n",
    "    'Street',\n",
    "    'LotShape',\n",
    "    'LotConfig',\n",
    "    'ExterQual',\n",
    "    'ExterCond',\n",
    "    'Foundation',\n",
    "    'BsmtQual',\n",
    "    'BsmtCond',\n",
    "    'BsmtExposure',\n",
    "    'Heating',\n",
    "    'KitchenQual',\n",
    "    'FireplaceQu',\n",
    "    'GarageFinish',\n",
    "    'GarageQual',\n",
    "    'SaleCondition' \n",
    "]\n",
    "categorical_onehot = [\n",
    "    'Neighborhood',\n",
    "    'CentralAir',\n",
    "    'SaleType',\n",
    "]\n",
    "le = LabelEncoder()\n",
    "for col in categorical_numeric:\n",
    "    df[col] = le.fit_transform(df[col])\n",
    "\n",
    "for col in categorical_onehot:\n",
    "    onehot = pd.get_dummies(df[col], prefix=col, dummy_na=True)\n",
    "    df.drop(col, axis=1, inplace=True)\n",
    "    df = df.join(onehot)\n"
   ]
  },
  {
   "cell_type": "code",
   "execution_count": 93,
   "metadata": {},
   "outputs": [],
   "source": [
    "for col in df.columns[df.isna().any()].tolist():\n",
    "    df[col]= df[col].fillna(df[col].median(skipna=True))"
   ]
  },
  {
   "cell_type": "code",
   "execution_count": null,
   "metadata": {},
   "outputs": [],
   "source": []
  },
  {
   "cell_type": "code",
   "execution_count": 94,
   "metadata": {},
   "outputs": [],
   "source": [
    "df.drop('Id', axis=1, inplace=True)"
   ]
  },
  {
   "cell_type": "code",
   "execution_count": 95,
   "metadata": {},
   "outputs": [],
   "source": [
    "df.to_csv('./data/train_preprocessed.csv', index=False)"
   ]
  },
  {
   "cell_type": "code",
   "execution_count": 100,
   "metadata": {},
   "outputs": [],
   "source": [
    "def prep_test_data(df_test,categorical_numeric,categorical_onehot, dropped_cols):\n",
    "    for col in dropped_cols:\n",
    "        df_test.drop(col, axis=1, inplace=True)\n",
    "    \n",
    "    for col in categorical_numeric:\n",
    "        df_test[col] = le.fit_transform(df_test[col])\n",
    "\n",
    "    for col in categorical_onehot:\n",
    "        onehot = pd.get_dummies(df_test[col], prefix=col, dummy_na=True)\n",
    "        df_test.drop(col, axis=1, inplace=True)\n",
    "        df_test = df_test.join(onehot)\n",
    "    df_test.drop('Id', axis=1, inplace=True)\n",
    "    \n",
    "    for col in df_test.columns[df_test.isna().any()].tolist():\n",
    "        df_test[col]= df_test[col].fillna(df_test[col].median(skipna=True))\n",
    "        \n",
    "    return df_test\n",
    "df_test = pd.read_csv('./data/test.csv')\n",
    "df_test_prep= prep_test_data(df_test,categorical_numeric,categorical_onehot, dropped_cols)\n",
    "df_test_prep.to_csv('./data/test_preprocessed.csv', index=False)"
   ]
  },
  {
   "cell_type": "code",
   "execution_count": 98,
   "metadata": {},
   "outputs": [
    {
     "data": {
      "text/plain": [
       "[]"
      ]
     },
     "execution_count": 98,
     "metadata": {},
     "output_type": "execute_result"
    }
   ],
   "source": [
    "df.columns[df.isna().any()].tolist()"
   ]
  },
  {
   "cell_type": "code",
   "execution_count": 99,
   "metadata": {},
   "outputs": [
    {
     "data": {
      "text/plain": [
       "['LotFrontage',\n",
       " 'MasVnrArea',\n",
       " 'BsmtFinSF1',\n",
       " 'BsmtFinSF2',\n",
       " 'BsmtUnfSF',\n",
       " 'TotalBsmtSF',\n",
       " 'BsmtFullBath',\n",
       " 'BsmtHalfBath',\n",
       " 'GarageYrBlt',\n",
       " 'GarageCars',\n",
       " 'GarageArea']"
      ]
     },
     "execution_count": 99,
     "metadata": {},
     "output_type": "execute_result"
    }
   ],
   "source": [
    "df_test_prep.columns[df_test_prep.isna().any()].tolist()"
   ]
  },
  {
   "cell_type": "code",
   "execution_count": null,
   "metadata": {},
   "outputs": [],
   "source": []
  }
 ],
 "metadata": {
  "kernelspec": {
   "display_name": ".venv",
   "language": "python",
   "name": "python3"
  },
  "language_info": {
   "codemirror_mode": {
    "name": "ipython",
    "version": 3
   },
   "file_extension": ".py",
   "mimetype": "text/x-python",
   "name": "python",
   "nbconvert_exporter": "python",
   "pygments_lexer": "ipython3",
   "version": "3.10.12"
  }
 },
 "nbformat": 4,
 "nbformat_minor": 2
}
