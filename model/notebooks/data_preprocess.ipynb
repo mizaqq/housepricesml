{
 "cells": [
  {
   "cell_type": "code",
   "execution_count": 22,
   "metadata": {},
   "outputs": [],
   "source": [
    "import pandas as pd\n",
    "from sklearn.preprocessing import LabelEncoder, StandardScaler\n",
    "from utils.data_analysis import get_data_for_preprocessing"
   ]
  },
  {
   "cell_type": "code",
   "execution_count": 23,
   "metadata": {},
   "outputs": [],
   "source": [
    "uncorrelated_col, insignificant_col, missing_values_col=get_data_for_preprocessing('./data/train.csv',treshhold=0.05)"
   ]
  },
  {
   "cell_type": "code",
   "execution_count": 24,
   "metadata": {},
   "outputs": [],
   "source": [
    "def drop_columns(df,insignificant_col,uncorrelated_col):\n",
    "    df = df.drop(columns=insignificant_col)\n",
    "    df = df.drop(columns=uncorrelated_col)\n",
    "    return df\n",
    "\n",
    "def fill_missing_values(df,missing_values_col):\n",
    "    numerical = df.select_dtypes(exclude=['object'])\n",
    "    categorical = df.select_dtypes(include=['object'])\n",
    "    for col in missing_values_col:\n",
    "        if col[1] == False and (col[0] in numerical.columns):\n",
    "            df[col[0]] = df[col[0]].fillna(df[col[0]].median())\n",
    "        elif col[1] == True and (col[0] in numerical.columns):\n",
    "            df[col[0]] = df[col[0]].fillna(df[col[0]].mean())\n",
    "        elif col[0] in categorical.columns:\n",
    "            df[col[0]] = df[col[0]].fillna(df[col[0]].mode()[0])\n",
    "    return df\n",
    "    \n",
    "            \n"
   ]
  },
  {
   "cell_type": "code",
   "execution_count": 25,
   "metadata": {},
   "outputs": [],
   "source": [
    "df = pd.read_csv('./data/train.csv')\n",
    "df = drop_columns(df,insignificant_col,uncorrelated_col)\n",
    "df = fill_missing_values(df,missing_values_col)\n"
   ]
  },
  {
   "cell_type": "code",
   "execution_count": 26,
   "metadata": {},
   "outputs": [],
   "source": [
    "\n",
    "categorical_numeric = [\n",
    "    'MSZoning',\n",
    "    'Street',\n",
    "    'LotShape',\n",
    "    'LotConfig',\n",
    "    'ExterQual',\n",
    "    'ExterCond',\n",
    "    'Foundation',\n",
    "    'BsmtQual',\n",
    "    'BsmtCond',\n",
    "    'BsmtExposure',\n",
    "    'Heating',\n",
    "    'KitchenQual',\n",
    "    'FireplaceQu',\n",
    "    'GarageFinish',\n",
    "    'GarageQual',\n",
    "    'SaleCondition' \n",
    "]\n",
    "categorical_onehot = [\n",
    "    'Neighborhood',\n",
    "    'CentralAir',\n",
    "    'SaleType',\n",
    "]\n",
    "le = LabelEncoder()\n",
    "for col in categorical_numeric:\n",
    "    df[col] = le.fit_transform(df[col])\n",
    "\n",
    "for col in categorical_onehot:\n",
    "    onehot = pd.get_dummies(df[col], prefix=col, dummy_na=True)\n",
    "    df.drop(col, axis=1, inplace=True)\n",
    "    df = df.join(onehot)\n"
   ]
  },
  {
   "cell_type": "code",
   "execution_count": 27,
   "metadata": {},
   "outputs": [],
   "source": [
    "df.to_csv('./data/train_preprocessed.csv', index=False)"
   ]
  },
  {
   "cell_type": "code",
   "execution_count": 28,
   "metadata": {},
   "outputs": [],
   "source": [
    "def prep_test_data(df_test,categorical_numeric,categorical_onehot):\n",
    "    df_test = drop_columns(df_test,insignificant_col,uncorrelated_col)\n",
    "    df_test = fill_missing_values(df_test,missing_values_col)\n",
    "    \n",
    "    for col in categorical_numeric:\n",
    "        df_test[col] = le.fit_transform(df_test[col])\n",
    "\n",
    "    for col in categorical_onehot:\n",
    "        onehot = pd.get_dummies(df_test[col], prefix=col, dummy_na=True)\n",
    "        df_test.drop(col, axis=1, inplace=True)\n",
    "        df_test = df_test.join(onehot)\n",
    "    \n",
    "    for col in df_test.columns[df_test.isna().any()].tolist():\n",
    "        df_test[col]= df_test[col].fillna(df_test[col].median(skipna=True))\n",
    "        \n",
    "    return df_test\n",
    "df_test = pd.read_csv('./data/test.csv')\n",
    "df_test_prep= prep_test_data(df_test,categorical_numeric,categorical_onehot)\n",
    "df_test_prep.to_csv('./data/test_preprocessed.csv', index=False)"
   ]
  },
  {
   "cell_type": "code",
   "execution_count": null,
   "metadata": {},
   "outputs": [],
   "source": []
  },
  {
   "cell_type": "code",
   "execution_count": null,
   "metadata": {},
   "outputs": [],
   "source": []
  },
  {
   "cell_type": "code",
   "execution_count": null,
   "metadata": {},
   "outputs": [],
   "source": []
  }
 ],
 "metadata": {
  "kernelspec": {
   "display_name": ".venv",
   "language": "python",
   "name": "python3"
  },
  "language_info": {
   "codemirror_mode": {
    "name": "ipython",
    "version": 3
   },
   "file_extension": ".py",
   "mimetype": "text/x-python",
   "name": "python",
   "nbconvert_exporter": "python",
   "pygments_lexer": "ipython3",
   "version": "3.10.12"
  }
 },
 "nbformat": 4,
 "nbformat_minor": 2
}
