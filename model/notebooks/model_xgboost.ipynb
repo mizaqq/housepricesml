{
 "cells": [
  {
   "cell_type": "code",
   "execution_count": 1,
   "metadata": {},
   "outputs": [],
   "source": [
    "import pandas as pd\n",
    "from sklearn.preprocessing import StandardScaler\n",
    "from sklearn.model_selection import train_test_split\n",
    "from sklearn.metrics import mean_squared_error, r2_score\n",
    "from xgboost import XGBRegressor\n",
    "from sklearn.model_selection import KFold, cross_val_score\n",
    "from utils.hyper_params import perform_random_search\n",
    "import json\n"
   ]
  },
  {
   "cell_type": "code",
   "execution_count": 6,
   "metadata": {},
   "outputs": [],
   "source": [
    "df= pd.read_csv('./data/train_preprocessed.csv')\n",
    "scaler = StandardScaler()\n",
    "X=scaler.fit_transform(df.drop('SalePrice', axis=1))\n",
    "X_train, X_test, y_train, y_test = train_test_split(df.drop('SalePrice',axis =1), df['SalePrice'], test_size=0.2, random_state=0)\n",
    "params = perform_random_search(X_train,y_train)"
   ]
  },
  {
   "cell_type": "code",
   "execution_count": 7,
   "metadata": {},
   "outputs": [
    {
     "name": "stdout",
     "output_type": "stream",
     "text": [
      "811826315.7773973\n",
      "0.8824435472488403\n"
     ]
    }
   ],
   "source": [
    "model = XGBRegressor(**params)\n",
    "model.fit(X_train, y_train)\n",
    "y_pred = model.predict(X_test)\n",
    "predictions = [round(value) for value in y_pred]\n",
    "print(mean_squared_error(predictions, y_test))\n",
    "print(r2_score(y_test, y_pred))"
   ]
  },
  {
   "cell_type": "code",
   "execution_count": 8,
   "metadata": {},
   "outputs": [],
   "source": [
    "cv = KFold(n_splits=5, random_state=1, shuffle=True)\n",
    "scores = cross_val_score(model, X_train, y_train, cv=cv, scoring='r2')"
   ]
  },
  {
   "cell_type": "code",
   "execution_count": 9,
   "metadata": {},
   "outputs": [
    {
     "name": "stdout",
     "output_type": "stream",
     "text": [
      "[0.93299788 0.77586806 0.89375132 0.88200676 0.88745505]\n"
     ]
    },
    {
     "data": {
      "text/plain": [
       "np.float64(0.8744158148765564)"
      ]
     },
     "execution_count": 9,
     "metadata": {},
     "output_type": "execute_result"
    }
   ],
   "source": [
    "print(scores)\n",
    "scores.mean()"
   ]
  },
  {
   "cell_type": "code",
   "execution_count": 12,
   "metadata": {},
   "outputs": [
    {
     "name": "stdout",
     "output_type": "stream",
     "text": [
      "1103683719.6849315\n",
      "0.8401814699172974\n"
     ]
    }
   ],
   "source": [
    "grid_search = pd.read_csv('../xgb-grid-search-results-01.csv')\n",
    "best=(best:=grid_search.loc[(grid_search[\"rank_test_score\"]==1)]).loc[best['std_score_time'].idxmax()]\n",
    "params=json.loads(best['params'].replace(\"'\",'\"'))\n",
    "model_best = XGBRegressor(**params)\n",
    "model_best.fit(X_train, y_train)\n",
    "y_pred = model_best.predict(X_test)\n",
    "predictions = [round(value) for value in y_pred]\n",
    "print(mean_squared_error(predictions, y_test))\n",
    "print(r2_score(y_test, y_pred))"
   ]
  },
  {
   "cell_type": "code",
   "execution_count": 13,
   "metadata": {},
   "outputs": [
    {
     "name": "stdout",
     "output_type": "stream",
     "text": [
      "[0.93282354 0.80984277 0.90231097 0.89117372 0.9031918 ]\n"
     ]
    },
    {
     "data": {
      "text/plain": [
       "np.float64(0.8878685593605041)"
      ]
     },
     "execution_count": 13,
     "metadata": {},
     "output_type": "execute_result"
    }
   ],
   "source": [
    "cv = KFold(n_splits=5, random_state=1, shuffle=True)\n",
    "scores = cross_val_score(model_best, X_train, y_train, cv=cv, scoring='r2')\n",
    "print(scores)\n",
    "scores.mean()"
   ]
  },
  {
   "cell_type": "markdown",
   "metadata": {},
   "source": [
    "The results using random search are slightly better after getting the best params from random search, yet the cross validated score is almost the same. "
   ]
  }
 ],
 "metadata": {
  "kernelspec": {
   "display_name": ".venv",
   "language": "python",
   "name": "python3"
  },
  "language_info": {
   "codemirror_mode": {
    "name": "ipython",
    "version": 3
   },
   "file_extension": ".py",
   "mimetype": "text/x-python",
   "name": "python",
   "nbconvert_exporter": "python",
   "pygments_lexer": "ipython3",
   "version": "3.10.12"
  }
 },
 "nbformat": 4,
 "nbformat_minor": 2
}
