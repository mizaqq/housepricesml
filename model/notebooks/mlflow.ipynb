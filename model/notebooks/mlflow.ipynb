{
 "cells": [
  {
   "cell_type": "code",
   "execution_count": 26,
   "metadata": {},
   "outputs": [],
   "source": [
    "import mlflow\n",
    "from model.utils.data_preprocess import preprocess_data, split_data\n",
    "from model.models.models import XGBModel\n",
    "import pandas as pd \n",
    "import json\n",
    "from mlflow.models import infer_signature\n"
   ]
  },
  {
   "cell_type": "code",
   "execution_count": 21,
   "metadata": {},
   "outputs": [
    {
     "name": "stderr",
     "output_type": "stream",
     "text": [
      "INFO:databricks.sdk:loading DEFAULT profile from ~/.databrickscfg: host, username, password\n",
      "2024/10/05 11:59:12 INFO mlflow.utils.credentials: Successfully connected to MLflow hosted tracking server! Host: https://community.cloud.databricks.com.\n"
     ]
    }
   ],
   "source": [
    "mlflow.login()\n"
   ]
  },
  {
   "cell_type": "code",
   "execution_count": 22,
   "metadata": {},
   "outputs": [],
   "source": [
    "mlflow.set_tracking_uri(\"databricks\")\n"
   ]
  },
  {
   "cell_type": "code",
   "execution_count": 23,
   "metadata": {},
   "outputs": [
    {
     "name": "stderr",
     "output_type": "stream",
     "text": [
      "INFO:root:Uncorrelated columns: ['Id', 'BsmtFinSF2', 'LowQualFinSF', 'BsmtHalfBath', '3SsnPorch', 'MiscVal', 'MoSold', 'YrSold']\n",
      "INFO:root:Insignificant columns: ['Alley', 'LandContour', 'Utilities', 'LandSlope', 'Condition1', 'Condition2', 'BldgType', 'HouseStyle', 'RoofStyle', 'RoofMatl', 'Exterior1st', 'Exterior2nd', 'MasVnrType', 'BsmtFinType1', 'BsmtFinType2', 'HeatingQC', 'Electrical', 'Functional', 'GarageType', 'GarageCond', 'PavedDrive', 'PoolQC', 'Fence', 'MiscFeature']\n",
      "INFO:root:Missing values columns: [('LotFrontage', False), ('Alley', False), ('MasVnrType', False), ('MasVnrArea', False), ('BsmtQual', False), ('BsmtCond', False), ('BsmtExposure', False), ('BsmtFinType1', False), ('BsmtFinType2', False), ('Electrical', False), ('FireplaceQu', False), ('GarageType', False), ('GarageYrBlt', False), ('GarageFinish', False), ('GarageQual', False), ('GarageCond', False), ('PoolQC', False), ('Fence', False), ('MiscFeature', False)]\n"
     ]
    }
   ],
   "source": [
    "df = preprocess_data(pd.read_csv('/home/miza/housepricesml/model/data/train.csv'))\n",
    "X_train, X_test, y_train, y_test = split_data(df)"
   ]
  },
  {
   "cell_type": "code",
   "execution_count": 25,
   "metadata": {},
   "outputs": [],
   "source": [
    "with open('/home/miza/housepricesml/best_params.json', \"r\") as f:\n",
    "    params = json.load(f)\n",
    "model = XGBModel(**params)\n",
    "model.fit(X_train, y_train)\n",
    "r2 = model.evaluate(X_test, y_test)\n"
   ]
  },
  {
   "cell_type": "code",
   "execution_count": null,
   "metadata": {},
   "outputs": [],
   "source": [
    "mlflow.set_experiment(\"houseprices\")\n",
    "with mlflow.start_run():\n",
    "    mlflow.log_param(params)\n",
    "    mlflow.log_metric(\"r2\", r2)\n",
    "    mlflow.set_tag(\"Training info\", \"XGB regressor for house prices\")\n",
    "    mlflow.log_artifact(\"model/data/train.csv\")\n",
    "    \n",
    "    signature = infer_signature(X_train, model.predict(X_train))\n"
   ]
  }
 ],
 "metadata": {
  "kernelspec": {
   "display_name": ".venv",
   "language": "python",
   "name": "python3"
  },
  "language_info": {
   "codemirror_mode": {
    "name": "ipython",
    "version": 3
   },
   "file_extension": ".py",
   "mimetype": "text/x-python",
   "name": "python",
   "nbconvert_exporter": "python",
   "pygments_lexer": "ipython3",
   "version": "3.10.12"
  }
 },
 "nbformat": 4,
 "nbformat_minor": 2
}
