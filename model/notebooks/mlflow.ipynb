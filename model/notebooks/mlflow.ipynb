{
 "cells": [
  {
   "cell_type": "code",
   "execution_count": 1,
   "metadata": {},
   "outputs": [
    {
     "name": "stderr",
     "output_type": "stream",
     "text": [
      "2024-10-06 14:02:55.753625: I tensorflow/core/util/port.cc:153] oneDNN custom operations are on. You may see slightly different numerical results due to floating-point round-off errors from different computation orders. To turn them off, set the environment variable `TF_ENABLE_ONEDNN_OPTS=0`.\n",
      "2024-10-06 14:02:55.761837: I external/local_xla/xla/tsl/cuda/cudart_stub.cc:32] Could not find cuda drivers on your machine, GPU will not be used.\n",
      "2024-10-06 14:02:55.838759: I external/local_xla/xla/tsl/cuda/cudart_stub.cc:32] Could not find cuda drivers on your machine, GPU will not be used.\n",
      "2024-10-06 14:02:55.932623: E external/local_xla/xla/stream_executor/cuda/cuda_fft.cc:485] Unable to register cuFFT factory: Attempting to register factory for plugin cuFFT when one has already been registered\n",
      "2024-10-06 14:02:56.006861: E external/local_xla/xla/stream_executor/cuda/cuda_dnn.cc:8454] Unable to register cuDNN factory: Attempting to register factory for plugin cuDNN when one has already been registered\n",
      "2024-10-06 14:02:56.023740: E external/local_xla/xla/stream_executor/cuda/cuda_blas.cc:1452] Unable to register cuBLAS factory: Attempting to register factory for plugin cuBLAS when one has already been registered\n",
      "2024-10-06 14:02:56.143326: I tensorflow/core/platform/cpu_feature_guard.cc:210] This TensorFlow binary is optimized to use available CPU instructions in performance-critical operations.\n",
      "To enable the following instructions: AVX2 AVX_VNNI FMA, in other operations, rebuild TensorFlow with the appropriate compiler flags.\n",
      "2024-10-06 14:02:57.164944: W tensorflow/compiler/tf2tensorrt/utils/py_utils.cc:38] TF-TRT Warning: Could not find TensorRT\n"
     ]
    }
   ],
   "source": [
    "import mlflow\n",
    "from model.utils.data_preprocess import preprocess_data, split_data\n",
    "from model.models.models import XGBModel\n",
    "import pandas as pd \n",
    "import json"
   ]
  },
  {
   "cell_type": "code",
   "execution_count": 2,
   "metadata": {},
   "outputs": [
    {
     "name": "stderr",
     "output_type": "stream",
     "text": [
      "2024/10/06 14:03:11 INFO mlflow.utils.credentials: No valid Databricks credentials found, please enter your credentials...\n",
      "2024/10/06 14:03:30 INFO mlflow.utils.credentials: Successfully connected to MLflow hosted tracking server! Host: https://community.cloud.databricks.com.\n"
     ]
    }
   ],
   "source": [
    "mlflow.login()\n"
   ]
  },
  {
   "cell_type": "code",
   "execution_count": 3,
   "metadata": {},
   "outputs": [],
   "source": [
    "mlflow.set_tracking_uri(\"databricks\")\n"
   ]
  },
  {
   "cell_type": "code",
   "execution_count": 4,
   "metadata": {},
   "outputs": [],
   "source": [
    "df = preprocess_data(pd.read_csv('/home/miza/housepricesml/model/data/train.csv'))\n",
    "X_train, X_test, y_train, y_test = split_data(df)"
   ]
  },
  {
   "cell_type": "code",
   "execution_count": 5,
   "metadata": {},
   "outputs": [],
   "source": [
    "with open('/home/miza/housepricesml/best_params.json', \"r\") as f:\n",
    "    params = json.load(f)\n",
    "model = XGBModel(**params)\n",
    "model.fit(X_train, y_train)\n",
    "r2 = model.evaluate(X_test, y_test)\n"
   ]
  },
  {
   "cell_type": "code",
   "execution_count": 13,
   "metadata": {},
   "outputs": [
    {
     "name": "stderr",
     "output_type": "stream",
     "text": [
      "2024/10/06 14:10:08 INFO mlflow.tracking._tracking_service.client: 🏃 View run thoughtful-crow-86 at: https://community.cloud.databricks.com/ml/experiments/3736160771961302/runs/4ccc673c5b224f6a9e442873d0fd2eef.\n",
      "2024/10/06 14:10:08 INFO mlflow.tracking._tracking_service.client: 🧪 View experiment at: https://community.cloud.databricks.com/ml/experiments/3736160771961302.\n"
     ]
    }
   ],
   "source": [
    "mlflow.set_experiment(\"/Users/michal.zareba@softwaremill.pl/houseprices\")\n",
    "with mlflow.start_run():\n",
    "    for key,value in params.items():\n",
    "        mlflow.log_param(key, value)\n",
    "    mlflow.log_metric(\"r2\", r2)\n",
    "    mlflow.set_tag(\"Training info\", \"XGB regressor for house prices\")\n",
    "    mlflow.log_artifact(\"model/data/train.csv\")\n",
    "    # dissabled due to Databricks Community Edition limitations\n",
    "    # signature = infer_signature(X_train, model.predict(X_train))\n",
    "    # model_info = mlflow.sklearn.log_model(\n",
    "    #     sk_model= model,\n",
    "    #     artifact_path=\"houseprices_model\",\n",
    "    #     signature=signature,\n",
    "    #     input_example=X_train,\n",
    "    #     registered_model_name=\"houseprices_model\"\n",
    "    #     )\n"
   ]
  },
  {
   "cell_type": "code",
   "execution_count": null,
   "metadata": {},
   "outputs": [],
   "source": []
  }
 ],
 "metadata": {
  "kernelspec": {
   "display_name": ".venv",
   "language": "python",
   "name": "python3"
  },
  "language_info": {
   "codemirror_mode": {
    "name": "ipython",
    "version": 3
   },
   "file_extension": ".py",
   "mimetype": "text/x-python",
   "name": "python",
   "nbconvert_exporter": "python",
   "pygments_lexer": "ipython3",
   "version": "3.10.12"
  }
 },
 "nbformat": 4,
 "nbformat_minor": 2
}
